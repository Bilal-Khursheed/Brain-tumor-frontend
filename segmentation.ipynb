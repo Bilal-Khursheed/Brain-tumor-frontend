{
 "metadata": {
  "language_info": {
   "codemirror_mode": {
    "name": "ipython",
    "version": 3
   },
   "file_extension": ".py",
   "mimetype": "text/x-python",
   "name": "python",
   "nbconvert_exporter": "python",
   "pygments_lexer": "ipython3",
   "version": "3.7.4-final"
  },
  "orig_nbformat": 2,
  "kernelspec": {
   "name": "Python 3.7.4 64-bit ('PythonCPU': conda)",
   "display_name": "Python 3.7.4 64-bit ('PythonCPU': conda)",
   "metadata": {
    "interpreter": {
     "hash": "969fb09983e65ca770e66d6ff55d796350ef6b301f6e16fb2ed26e2b8c7d160a"
    }
   }
  }
 },
 "nbformat": 4,
 "nbformat_minor": 2,
 "cells": [
  {
   "cell_type": "code",
   "execution_count": 1,
   "metadata": {},
   "outputs": [
    {
     "output_type": "stream",
     "name": "stderr",
     "text": [
      "Using TensorFlow backend.\n"
     ]
    }
   ],
   "source": [
    "from keras.models import load_model\n",
    "import numpy as np\n",
    "from keras.models import load_model\n",
    "import numpy as np\n",
    "import matplotlib.pyplot as plt\n",
    "import nibabel as nib"
   ]
  },
  {
   "cell_type": "code",
   "execution_count": 2,
   "metadata": {},
   "outputs": [
    {
     "output_type": "execute_result",
     "data": {
      "text/plain": [
       "35"
      ]
     },
     "metadata": {},
     "execution_count": 2
    }
   ],
   "source": [
    "vol_names='BraTS19_WashU_W053_1','BraTS19_WashU_W033_1','BraTS19_WashU_S040_1','BraTS19_WashU_S041_1','BraTS19_WashU_S036_1','BraTS19_WashU_W047_1','BraTS19_WashU_S037_1','BraTS19_UAB_3498_1','BraTS19_UAB_3499_1','BraTS19_WashU_W038_1','BraTS19_UAB_3446_1','BraTS19_UAB_3454_1','BraTS19_UAB_3456_1','BraTS19_UAB_3455_1','BraTS19_UAB_3490_1','BraTS19_TCIA13_655_1','BraTS19_UAB_3449_1','BraTS19_UAB_3448_1','BraTS19_TCIA13_651_1','BraTS19_TCIA13_652_1','BraTS19_TCIA13_617_1','BraTS19_TCIA13_648_1','BraTS19_TCIA13_638_1','BraTS19_TCIA13_619_1','BraTS19_TCIA13_636_1','BraTS19_TCIA13_622_1','BraTS19_TCIA13_646_1','BraTS19_TCIA13_626_1','BraTS19_TCIA13_649_1','BraTS19_TCIA13_643_1','BraTS19_TCIA13_611_1','BraTS19_TCIA12_339_1','BraTS19_TCIA10_647_1','BraTS19_TCIA12_641_1','BraTS19_TCIA12_613_1'          \n",
    "len(vol_names)"
   ]
  },
  {
   "cell_type": "code",
   "execution_count": 3,
   "metadata": {},
   "outputs": [],
   "source": [
    "def Read_Chuncks_merge_swap_save(DFKZ_weights,path,path_pre,swapped_axis_path):\n",
    "  pred_lis=[]\n",
    "  volume_val=np.load(path+'_.npy')\n",
    "  pred=DFKZ_weights.predict(volume_val)\n",
    "  print('--------------')\n",
    "  print('------Pred--------',pred.shape)\n",
    "  _classes=pred.argmax(axis=-1)\n",
    "  print('-------_classes-------',_classes.shape)\n",
    "  pred_lis.append(_classes)\n",
    "  print('-------pred_lis-------',len(pred_lis))\n",
    "   # i=i+4\n",
    "  # print(\"i:\",i)\n",
    "  predictions=np.array(pred_lis)\n",
    "  print('-------predictions Shape-------',predictions.shape)\n",
    "  for i in range(0,35):\n",
    "    pred_padded_image=np.zeros((256,256,155))\n",
    "    pred_padded_image.shape\n",
    "    pred_padded_image[0:128,0:128,13:141]=predictions[i,0,:,:,:]\n",
    "    pred_padded_image[0:128,128:256,13:141]=predictions[i,2,:,:,:]\n",
    "    pred_padded_image[128:256,0:128,13:141]=predictions[i,1,:,:,:]\n",
    "    pred_padded_image[128:256,128:256,13:141]=predictions[i,3,:,:,:]\n",
    "    plt.imshow(pred_padded_image[:,:,76],'gray')\n",
    "    plt.show()\n",
    "    vol1=vol_names[i]\n",
    "    vol=str(vol1)\n",
    "    \n",
    "    nib.save(nib.Nifti1Image(pred_padded_image, None),path_pre+vol+'.nii.gz')\n",
    "\n"
   ]
  },
  {
   "cell_type": "code",
   "execution_count": 4,
   "metadata": {},
   "outputs": [
    {
     "output_type": "stream",
     "name": "stdout",
     "text": [
      "WARNING:tensorflow:From C:\\Users\\DELL\\Anaconda3\\envs\\PythonCPU\\lib\\site-packages\\tensorflow_core\\python\\ops\\resource_variable_ops.py:1630: calling BaseResourceVariable.__init__ (from tensorflow.python.ops.resource_variable_ops) with constraint is deprecated and will be removed in a future version.\n",
      "Instructions for updating:\n",
      "If using Keras pass *_constraint arguments to layers.\n",
      "WARNING:tensorflow:From C:\\Users\\DELL\\Anaconda3\\envs\\PythonCPU\\lib\\site-packages\\tensorflow_core\\python\\ops\\math_grad.py:1424: where (from tensorflow.python.ops.array_ops) is deprecated and will be removed in a future version.\n",
      "Instructions for updating:\n",
      "Use tf.where in 2.0, which has the same broadcast rule as np.where\n",
      "WARNING:tensorflow:From C:\\Users\\DELL\\Anaconda3\\envs\\PythonCPU\\lib\\site-packages\\keras\\backend\\tensorflow_backend.py:422: The name tf.global_variables is deprecated. Please use tf.compat.v1.global_variables instead.\n",
      "\n"
     ]
    }
   ],
   "source": [
    "#DFKZ=load_model('/content/drive/My Drive/SLOSH_AI_Solutions_Scripts/Test_Validation_Set/dfkz.h5')\n",
    "#path_pre='/content/drive/My Drive/Thesis_Experiments_September_2019/Segmentation_Prediction_Val_35/'\n",
    "#swapped_axis_path='/content/drive/My Drive/Thesis_Experiments_September_2019/Segmentation_Swapped_Axis/'\n",
    "#path='/content/drive/My Drive/Thesis_Experiments_September_2019/Segmentation_jan_val_chunks/x_data_chunk_128_cube_'\n",
    "DFKZ_weights=load_model('E:/FYPbackendalgo/brain Seg/dfkz.h5')\n",
    "path='E:/FYPbackendalgo/brain Seg/chunk data/x_data_chunk_128_cube_3'\n",
    "path_pre='E:/FYPbackendalgo/brain Seg/testing/'\n",
    "swapped_axis_path='E:/FYPbackendalgo/brain Seg/Segmentation_Swapped_Axis/'\n",
    "Read_Chuncks_merge_swap_save(DFKZ_weights,path,path_pre,swapped_axis_path)"
   ]
  },
  {
   "cell_type": "code",
   "execution_count": null,
   "metadata": {},
   "outputs": [],
   "source": []
  }
 ]
}